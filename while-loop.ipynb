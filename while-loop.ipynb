{
 "cells": [
  {
   "cell_type": "code",
   "execution_count": 1,
   "id": "9b55810e",
   "metadata": {},
   "outputs": [
    {
     "name": "stdout",
     "output_type": "stream",
     "text": [
      "1\n",
      "2\n",
      "3\n",
      "4\n",
      "5\n",
      "6\n",
      "7\n",
      "8\n",
      "9\n",
      "10\n"
     ]
    }
   ],
   "source": [
    "a = 1\n",
    "while a <=10:\n",
    "    print(a)\n",
    "    a = a+1"
   ]
  },
  {
   "cell_type": "code",
   "execution_count": 2,
   "id": "a56724d5",
   "metadata": {},
   "outputs": [
    {
     "name": "stdout",
     "output_type": "stream",
     "text": [
      "krishna\n"
     ]
    }
   ],
   "source": [
    "print(\"krishna\")"
   ]
  },
  {
   "cell_type": "code",
   "execution_count": 3,
   "id": "9161c94a",
   "metadata": {},
   "outputs": [],
   "source": [
    "#sum up the number till some point"
   ]
  },
  {
   "cell_type": "code",
   "execution_count": 6,
   "id": "70ccb149",
   "metadata": {},
   "outputs": [
    {
     "name": "stdout",
     "output_type": "stream",
     "text": [
      "enter your limit5\n"
     ]
    },
    {
     "data": {
      "text/plain": [
       "15"
      ]
     },
     "execution_count": 6,
     "metadata": {},
     "output_type": "execute_result"
    }
   ],
   "source": [
    "n = int(input(\"enter your limit\"))\n",
    "starting_point = 0\n",
    "counter = 1\n",
    "while counter <= n:\n",
    "    starting_point = starting_point + counter\n",
    "    counter = counter + 1\n",
    "starting_point\n",
    "    "
   ]
  },
  {
   "cell_type": "code",
   "execution_count": 1,
   "id": "bb89f2e3",
   "metadata": {},
   "outputs": [],
   "source": [
    "# factorial number"
   ]
  },
  {
   "cell_type": "code",
   "execution_count": 9,
   "id": "2d1988ac",
   "metadata": {},
   "outputs": [
    {
     "name": "stdout",
     "output_type": "stream",
     "text": [
      "enter your number5\n"
     ]
    },
    {
     "data": {
      "text/plain": [
       "120"
      ]
     },
     "execution_count": 9,
     "metadata": {},
     "output_type": "execute_result"
    }
   ],
   "source": [
    "number = int(input(\"enter your number\"))\n",
    "fact = 1\n",
    "while number >0:\n",
    "    fact = fact * number\n",
    "    number = number -1\n",
    "fact"
   ]
  },
  {
   "cell_type": "code",
   "execution_count": 10,
   "id": "edb2b213",
   "metadata": {},
   "outputs": [],
   "source": [
    "#fibonacci series"
   ]
  },
  {
   "cell_type": "code",
   "execution_count": 13,
   "id": "a7f6fdd4",
   "metadata": {},
   "outputs": [
    {
     "name": "stdout",
     "output_type": "stream",
     "text": [
      "enter the number10\n",
      "0\n",
      "1\n",
      "1\n",
      "2\n",
      "3\n",
      "5\n",
      "8\n",
      "13\n",
      "21\n",
      "34\n"
     ]
    }
   ],
   "source": [
    "number = int(input(\"enter the number\"))\n",
    "f = 0\n",
    "s = 1\n",
    "counter = 0\n",
    "while counter < number :\n",
    "        print(f)\n",
    "        c = f+s\n",
    "        f = s\n",
    "        s = c\n",
    "        counter = counter + 1"
   ]
  },
  {
   "cell_type": "code",
   "execution_count": 14,
   "id": "5ad48e58",
   "metadata": {},
   "outputs": [
    {
     "name": "stdout",
     "output_type": "stream",
     "text": [
      "0\n",
      "1\n",
      "1\n",
      "2\n",
      "3\n",
      "5\n",
      "8\n",
      "13\n",
      "21\n",
      "34\n"
     ]
    }
   ],
   "source": [
    "f,s = 0,1\n",
    "for i in range(10):\n",
    "    print(f)\n",
    "    c = f+s\n",
    "    f=s\n",
    "    s=c\n",
    "    "
   ]
  },
  {
   "cell_type": "code",
   "execution_count": 16,
   "id": "746f1e65",
   "metadata": {},
   "outputs": [],
   "source": [
    "s = 'krishna'"
   ]
  },
  {
   "cell_type": "code",
   "execution_count": 17,
   "id": "9851f6ad",
   "metadata": {},
   "outputs": [
    {
     "data": {
      "text/plain": [
       "'anhsirk'"
      ]
     },
     "execution_count": 17,
     "metadata": {},
     "output_type": "execute_result"
    }
   ],
   "source": [
    "s[::-1]"
   ]
  },
  {
   "cell_type": "code",
   "execution_count": 24,
   "id": "ff0c7834",
   "metadata": {},
   "outputs": [
    {
     "name": "stdout",
     "output_type": "stream",
     "text": [
      "enter the string rutvik\n",
      "kivtur\n"
     ]
    }
   ],
   "source": [
    "word = input(\"enter the string \")\n",
    "reverse = \"\"\n",
    "lenghth = len(word)\n",
    "while lenghth > 0:\n",
    "    reverse = reverse + word[lenghth -1]\n",
    "    lenghth = lenghth -1\n",
    "print(reverse)"
   ]
  },
  {
   "cell_type": "code",
   "execution_count": 23,
   "id": "54e50431",
   "metadata": {},
   "outputs": [],
   "source": [
    "#print table of number"
   ]
  },
  {
   "cell_type": "code",
   "execution_count": 26,
   "id": "3d1d70e6",
   "metadata": {},
   "outputs": [
    {
     "name": "stdout",
     "output_type": "stream",
     "text": [
      "enter your number21\n",
      "21 *  1 = 21\n",
      "21 *  2 = 42\n",
      "21 *  3 = 63\n",
      "21 *  4 = 84\n",
      "21 *  5 = 105\n",
      "21 *  6 = 126\n",
      "21 *  7 = 147\n",
      "21 *  8 = 168\n",
      "21 *  9 = 189\n",
      "21 *  10 = 210\n"
     ]
    }
   ],
   "source": [
    "n = int(input(\"enter your number\"))\n",
    "i = 1\n",
    "while i <= 10:\n",
    "    result = n*i\n",
    "    print(n, \"* \",i,\"=\",result)\n",
    "    i = i+1"
   ]
  },
  {
   "cell_type": "code",
   "execution_count": 29,
   "id": "00f3c314",
   "metadata": {},
   "outputs": [
    {
     "name": "stdout",
     "output_type": "stream",
     "text": [
      "1\n",
      "2\n",
      "3\n"
     ]
    }
   ],
   "source": [
    "n = 5\n",
    "i = 1\n",
    "while i < n:\n",
    "    print(i)\n",
    "    if i == 3:\n",
    "        break\n",
    "    i = i+1\n",
    "else:\n",
    "    print(\"this will be executed\")"
   ]
  },
  {
   "cell_type": "code",
   "execution_count": 2,
   "id": "249bf62d",
   "metadata": {},
   "outputs": [],
   "source": [
    "#factorial number "
   ]
  },
  {
   "cell_type": "code",
   "execution_count": 4,
   "id": "8ee14976",
   "metadata": {},
   "outputs": [
    {
     "name": "stdout",
     "output_type": "stream",
     "text": [
      "enter the number5\n"
     ]
    },
    {
     "data": {
      "text/plain": [
       "120"
      ]
     },
     "execution_count": 4,
     "metadata": {},
     "output_type": "execute_result"
    }
   ],
   "source": [
    "num = int(input(\"enter the number\"))\n",
    "fact = 1\n",
    "while num > 0:\n",
    "    fact = fact * num\n",
    "    num = num - 1\n",
    "fact"
   ]
  },
  {
   "cell_type": "code",
   "execution_count": 8,
   "id": "3d7f5d98",
   "metadata": {},
   "outputs": [
    {
     "name": "stdout",
     "output_type": "stream",
     "text": [
      "enter the number10\n",
      "0\n",
      "1\n",
      "1\n",
      "2\n",
      "3\n",
      "5\n",
      "8\n",
      "13\n",
      "21\n",
      "34\n"
     ]
    }
   ],
   "source": [
    "number = int(input(\"enter the number\"))\n",
    "a,b = 0,1\n",
    "counter = 0\n",
    "while counter < number:\n",
    "    print(a)\n",
    "    c = a+b\n",
    "    a = b\n",
    "    b = c\n",
    "    counter = counter + 1 "
   ]
  },
  {
   "cell_type": "code",
   "execution_count": 10,
   "id": "eb758fab",
   "metadata": {},
   "outputs": [
    {
     "name": "stdout",
     "output_type": "stream",
     "text": [
      "enter the number10\n",
      "0\n",
      "1\n",
      "1\n",
      "2\n",
      "3\n",
      "5\n",
      "8\n",
      "13\n",
      "21\n",
      "34\n"
     ]
    }
   ],
   "source": [
    "num = int(input(\"enter the number\"))\n",
    "a,b = 0,1\n",
    "for i in range(num):\n",
    "    print(a)\n",
    "    c = a+b\n",
    "    a = b\n",
    "    b = c\n",
    "    "
   ]
  },
  {
   "cell_type": "code",
   "execution_count": 16,
   "id": "b754c688",
   "metadata": {},
   "outputs": [
    {
     "name": "stdout",
     "output_type": "stream",
     "text": [
      "enter the number2\n",
      "2 *  2  =  2\n",
      "2 *  3  =  4\n",
      "2 *  4  =  6\n",
      "2 *  5  =  8\n",
      "2 *  6  =  10\n",
      "2 *  7  =  12\n",
      "2 *  8  =  14\n",
      "2 *  9  =  16\n",
      "2 *  10  =  18\n",
      "2 *  11  =  20\n"
     ]
    }
   ],
   "source": [
    "num = int(input(\"enter the number\"))\n",
    "i = 1\n",
    "while i <= 10:\n",
    "    result = num * i\n",
    "    i = i + 1\n",
    "    print(num ,\"* \", i , \" = \", result)\n",
    "    \n",
    "    "
   ]
  },
  {
   "cell_type": "code",
   "execution_count": null,
   "id": "5c2f93ee",
   "metadata": {},
   "outputs": [],
   "source": []
  }
 ],
 "metadata": {
  "kernelspec": {
   "display_name": "Python 3 (ipykernel)",
   "language": "python",
   "name": "python3"
  },
  "language_info": {
   "codemirror_mode": {
    "name": "ipython",
    "version": 3
   },
   "file_extension": ".py",
   "mimetype": "text/x-python",
   "name": "python",
   "nbconvert_exporter": "python",
   "pygments_lexer": "ipython3",
   "version": "3.10.8"
  }
 },
 "nbformat": 4,
 "nbformat_minor": 5
}
